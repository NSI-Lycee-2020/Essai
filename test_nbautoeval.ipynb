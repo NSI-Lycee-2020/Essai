{
 "cells": [
  {
   "cell_type": "code",
   "execution_count": 4,
   "metadata": {},
   "outputs": [],
   "source": [
    "from exos.corrections import exo_add"
   ]
  },
  {
   "cell_type": "code",
   "execution_count": 5,
   "metadata": {},
   "outputs": [
    {
     "data": {
      "text/html": [
       "<table style='font-family:monospace;font-size:small;'><tr style='font-family:monospace;font-size:medium;'><th style='text-align: center;'><pre>Appel</pre></th><th style='text-align: center;'><pre>Resultat Attendu</pre></th></tr><tr><td><pre>add(1, 1)</pre></td><td style='text-align: left;border-left:3px solid gray;'><pre>\n",
       "2</pre></td></tr><tr><td><pre>add(2, 2)</pre></td><td style='text-align: left;border-left:3px solid gray;'><pre>\n",
       "4</pre></td></tr><tr><td><pre>add(3, 3)</pre></td><td style='text-align: left;border-left:3px solid gray;'><pre>\n",
       "6</pre></td></tr><tr><td><pre>add(4, 4)</pre></td><td style='text-align: left;border-left:3px solid gray;'><pre>\n",
       "8</pre></td></tr></table>"
      ],
      "text/plain": [
       "<IPython.core.display.HTML object>"
      ]
     },
     "execution_count": 5,
     "metadata": {},
     "output_type": "execute_result"
    }
   ],
   "source": [
    "exo_add.example(4)"
   ]
  },
  {
   "cell_type": "code",
   "execution_count": 6,
   "metadata": {},
   "outputs": [],
   "source": [
    "def add(x,y):\n",
    "    z = x+y+2                \n",
    "    return z"
   ]
  },
  {
   "cell_type": "code",
   "execution_count": 7,
   "metadata": {},
   "outputs": [
    {
     "data": {
      "text/html": [
       "<table style='font-family:monospace;font-size:small;'><tr style='font-family:monospace;font-size:medium;'><th style='text-align: center;'><pre>Appel</pre></th><th style='text-align: center;'><pre>Attendu</pre></th><th style='text-align: center;'><pre>Obtenu</pre></th><th style='text-align: center;'><pre></pre></th></tr><tr style='background-color:#efd6d6;border-bottom:2px solid gray;'><td><pre>add(1, 1)</pre></td><td style='text-align: left;border-left:3px solid gray;'><pre>\n",
       "2</pre></td><td style='text-align: left;border-left:1px solid gray;'><pre>\n",
       "4</pre></td><td style='border-left:3px solid gray;'><pre>KO</pre></td></tr><tr style='background-color:#efd6d6;border-bottom:2px solid gray;'><td><pre>add(2, 2)</pre></td><td style='text-align: left;border-left:3px solid gray;'><pre>\n",
       "4</pre></td><td style='text-align: left;border-left:1px solid gray;'><pre>\n",
       "6</pre></td><td style='border-left:3px solid gray;'><pre>KO</pre></td></tr><tr style='background-color:#efd6d6;border-bottom:2px solid gray;'><td><pre>add(3, 3)</pre></td><td style='text-align: left;border-left:3px solid gray;'><pre>\n",
       "6</pre></td><td style='text-align: left;border-left:1px solid gray;'><pre>\n",
       "8</pre></td><td style='border-left:3px solid gray;'><pre>KO</pre></td></tr><tr style='background-color:#efd6d6;border-bottom:2px solid gray;'><td><pre>add(4, 4)</pre></td><td style='text-align: left;border-left:3px solid gray;'><pre>\n",
       "8</pre></td><td style='text-align: left;border-left:1px solid gray;'><pre>\n",
       "10</pre></td><td style='border-left:3px solid gray;'><pre>KO</pre></td></tr><tr style='background-color:#efd6d6;border-bottom:2px solid gray;'><td><pre>add(5, 5)</pre></td><td style='text-align: left;border-left:3px solid gray;'><pre>\n",
       "10</pre></td><td style='text-align: left;border-left:1px solid gray;'><pre>\n",
       "12</pre></td><td style='border-left:3px solid gray;'><pre>KO</pre></td></tr><tr style='background-color:#efd6d6;border-bottom:2px solid gray;'><td><pre>add(6, 6)</pre></td><td style='text-align: left;border-left:3px solid gray;'><pre>\n",
       "12</pre></td><td style='text-align: left;border-left:1px solid gray;'><pre>\n",
       "14</pre></td><td style='border-left:3px solid gray;'><pre>KO</pre></td></tr></table>"
      ],
      "text/plain": [
       "<IPython.core.display.HTML object>"
      ]
     },
     "execution_count": 7,
     "metadata": {},
     "output_type": "execute_result"
    }
   ],
   "source": [
    "exo_add.correction(add)"
   ]
  },
  {
   "cell_type": "code",
   "execution_count": 8,
   "metadata": {},
   "outputs": [
    {
     "data": {
      "text/plain": [
       "6"
      ]
     },
     "execution_count": 8,
     "metadata": {},
     "output_type": "execute_result"
    }
   ],
   "source": [
    "add(2,2)"
   ]
  },
  {
   "cell_type": "code",
   "execution_count": null,
   "metadata": {},
   "outputs": [],
   "source": []
  },
  {
   "cell_type": "code",
   "execution_count": null,
   "metadata": {},
   "outputs": [],
   "source": []
  }
 ],
 "metadata": {
  "kernelspec": {
   "display_name": "Python 3",
   "language": "python",
   "name": "python3"
  },
  "language_info": {
   "codemirror_mode": {
    "name": "ipython",
    "version": 3
   },
   "file_extension": ".py",
   "mimetype": "text/x-python",
   "name": "python",
   "nbconvert_exporter": "python",
   "pygments_lexer": "ipython3",
   "version": "3.7.4"
  }
 },
 "nbformat": 4,
 "nbformat_minor": 2
}
